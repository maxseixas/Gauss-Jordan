{
 "cells": [
  {
   "cell_type": "markdown",
   "id": "cd5e55bf",
   "metadata": {},
   "source": [
    "Gauss-Jordan:"
   ]
  },
  {
   "cell_type": "code",
   "execution_count": 1,
   "id": "e92290ab",
   "metadata": {},
   "outputs": [
    {
     "name": "stdout",
     "output_type": "stream",
     "text": [
      "[[ 1. -4.  1.  5.]\n",
      " [ 2. -2.  1.  3.]\n",
      " [ 0.  1.  4.  1.]\n",
      " [ 3.  4. -1. -1.]]\n",
      "[[ 9.]\n",
      " [ 7.]\n",
      " [-4.]\n",
      " [ 3.]]\n",
      "[ 1.61904762 -0.42857143 -1.23809524  1.38095238]\n"
     ]
    }
   ],
   "source": [
    "import numpy as np\n",
    "\n",
    "A=np.array([[0,1,4,1],[3,4,-1,-1],[1,-4,1,5],[2,-2,1,3]], float)\n",
    "v=np.array([[-4],[3],[9],[7]], float)\n",
    "\n",
    "\n",
    "N = len(v)\n",
    "\n",
    "\n",
    "\n",
    "\n",
    "#Check for diagonal zeros\n",
    "def check(array):\n",
    "    check = 1\n",
    "    for i in range(len(array)):\n",
    "        if(array[i,i]==0):\n",
    "            check = 0\n",
    "    return check\n",
    "\n",
    "\n",
    "#Pivoting method\n",
    "while(check(A)==0):\n",
    "    for i in range(len(A)):\n",
    "        for m in range(len(A)):\n",
    "            A[[i,m]]=A[[m,i]]\n",
    "            v[[i,m]]=v[[m,i]]\n",
    "\n",
    "print(A)\n",
    "print(v)\n",
    "\n",
    "\n",
    "# Gaussian elimination                                                               \n",
    "\n",
    "\n",
    "for m in range(N):\n",
    "\n",
    "    # Divide by the diagonal element                                                  \n",
    "    div = A[m,m]\n",
    "    A[m,:] /= div\n",
    "    v[m] /= div\n",
    "\n",
    "    # Now subtract from the lower rows                                                \n",
    "    for i in range(m+1,N):\n",
    "        mult = A[i,m]\n",
    "        A[i,:] -= mult*A[m,:]\n",
    "        v[i] -= mult*v[m]\n",
    "\n",
    "# Backsubstitution                                                                    \n",
    "x = np.empty(N,float)\n",
    "for m in range(N-1,-1,-1):\n",
    "    x[m] = v[m]\n",
    "    for i in range(m+1,N):\n",
    "        x[m] -= A[m,i]*x[i]\n",
    "\n",
    "print(x)"
   ]
  },
  {
   "cell_type": "markdown",
   "id": "4454b415",
   "metadata": {},
   "source": [
    ">Imagine you observe this planet with intensity of 1.25 ×10−12 (cgs units) at a wavelength of\n",
    "λ= 870micron. What temperature does this correspond to in Kelvin? Your constants should\n",
    "all be in cgs units, and your frequency in Hz. Do this using:\n",
    "(a) The bisection method\n",
    "(b) Newton-Raphson iteration"
   ]
  },
  {
   "cell_type": "code",
   "execution_count": 2,
   "id": "d30db31b",
   "metadata": {},
   "outputs": [
    {
     "name": "stdout",
     "output_type": "stream",
     "text": [
      "Part A: Bisection Method\n",
      "42.016071810134505 2.0194839173657902e-28\n",
      "Part B: Newton-Raphson Method\n",
      "42.01607181013451 -4.0389678347315804e-28\n"
     ]
    }
   ],
   "source": [
    "import math as math\n",
    "import numpy as np\n",
    "\n",
    "#in cgs units\n",
    "c = 3e10\n",
    "h = 6.6261e-27\n",
    "lam = 0.087\n",
    "v=c/lam\n",
    "b=1.25e-12\n",
    "k = 1.38e-16\n",
    "m = 1e-2\n",
    "x=2*h*v**3/c**2\n",
    "\n",
    "def f(T):\n",
    "    y = math.exp((h*v)/(k*T))-1\n",
    "    z = x / y\n",
    "    return b - z\n",
    "\n",
    "\n",
    "#Part a: Bisection\n",
    "print(\"Part A: Bisection Method\")\n",
    "a_i=15\n",
    "b_i=60\n",
    "\n",
    "for i in range(200):\n",
    "    c_i= (a_i+b_i)/2\n",
    "    if f(a_i)/f(c_i) < 0:\n",
    "        b_i=c_i\n",
    "    elif f(b_i)/f(c_i)<0:\n",
    "        a_i=c_i\n",
    "    if i == 199:\n",
    "        print(c_i, f(c_i)) \n",
    "        break\n",
    "\n",
    "#Part b: Newton-Raphson Method\n",
    "print(\"Part B: Newton-Raphson Method\")\n",
    "\n",
    "for i in range(200):\n",
    "    fp = ( f(a_i + m) - f(a_i - m))/(2*m)\n",
    "    a_i = a_i - f(a_i)/fp\n",
    "    if abs(f(a_i)) < m:\n",
    "        print(a_i, f(a_i))\n",
    "        break"
   ]
  }
 ],
 "metadata": {
  "kernelspec": {
   "display_name": "Python 3",
   "language": "python",
   "name": "python3"
  },
  "language_info": {
   "codemirror_mode": {
    "name": "ipython",
    "version": 3
   },
   "file_extension": ".py",
   "mimetype": "text/x-python",
   "name": "python",
   "nbconvert_exporter": "python",
   "pygments_lexer": "ipython3",
   "version": "3.8.8"
  }
 },
 "nbformat": 4,
 "nbformat_minor": 5
}
